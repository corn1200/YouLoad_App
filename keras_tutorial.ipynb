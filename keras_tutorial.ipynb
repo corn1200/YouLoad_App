{
  "nbformat": 4,
  "nbformat_minor": 0,
  "metadata": {
    "colab": {
      "name": "keras_tutorial.ipynb",
      "provenance": [],
      "collapsed_sections": [],
      "authorship_tag": "ABX9TyMHz7KqpRK2/IRv3/H5tokF",
      "include_colab_link": true
    },
    "kernelspec": {
      "name": "python3",
      "display_name": "Python 3"
    }
  },
  "cells": [
    {
      "cell_type": "markdown",
      "metadata": {
        "id": "view-in-github",
        "colab_type": "text"
      },
      "source": [
        "<a href=\"https://colab.research.google.com/github/corn1200/YouLoad_App/blob/master/keras_tutorial.ipynb\" target=\"_parent\"><img src=\"https://colab.research.google.com/assets/colab-badge.svg\" alt=\"Open In Colab\"/></a>"
      ]
    },
    {
      "cell_type": "code",
      "metadata": {
        "id": "JUcuDawj2q_O",
        "colab_type": "code",
        "colab": {
          "base_uri": "https://localhost:8080/",
          "height": 35
        },
        "outputId": "3dfadb4d-d297-43b2-e0aa-9875f889ca22"
      },
      "source": [
        "from __future__ import absolute_import, division, print_function, unicode_literals, unicode_literals\n",
        "\n",
        "# tensorflow와 tf.keras를 임포트합니다\n",
        "import tensorflow as tf\n",
        "from tensorflow import keras\n",
        "\n",
        "# 헬퍼(helper) 라이브러리를 임포트합니다\n",
        "import numpy as np\n",
        "import matplotlib.pyplot as plt\n",
        "\n",
        "print(tf.__version__)"
      ],
      "execution_count": 102,
      "outputs": [
        {
          "output_type": "stream",
          "text": [
            "2.2.0\n"
          ],
          "name": "stdout"
        }
      ]
    },
    {
      "cell_type": "markdown",
      "metadata": {
        "id": "mrJ3B7uR3fg-",
        "colab_type": "text"
      },
      "source": [
        "# **패션 MNIST 데이터셋 임포트하기**"
      ]
    },
    {
      "cell_type": "markdown",
      "metadata": {
        "id": "QYPn1f6CVJaF",
        "colab_type": "text"
      },
      "source": [
        "패션 MNIST는 일반적인 MNIST 보다 조금 더 다양한 예제를 만들기 위해 선택 되었다. 패션 MNIST 데이터셋은 비교적 작은 용량인데 이는 알고리즘의 작동 여부를 확인하기 위해 사용되곤 한다.(디버깅, 테스트에 용의) "
      ]
    },
    {
      "cell_type": "code",
      "metadata": {
        "id": "w74R3lvPFLc5",
        "colab_type": "code",
        "colab": {}
      },
      "source": [
        "# 네트워크(train model, layer)를 훈련하는데 60,000개의 이미지(28x28)를 사용한다.\n",
        "# 네트워크(train model, layer)가 얼마나 정확하게 분류하는지 10,000개의 이미지(28x28)로 평가한다.\n",
        "# 패션 MNIST 데이터셋은 tesorflow의 keras API에 있는 dataset에서 호출하여 바로 사용할 수 있다.\n",
        "\n",
        "fashion_mnist = keras.datasets.fashion_mnist\n",
        "# tensorflow의 keras API 속 데이터셋 중 패션 MNIST를 fashion_mnist변수에 저장\n",
        "\n",
        "(train_images, train_labels), (test_images, test_labels) = fashion_mnist.load_data()\n",
        "# load_data() 함수를 사용하면 4개의 넘파이(NumPy) 배열이 반환된다.\n",
        "# train_images와 train_labels 배열은 모델 학습에 사용되는 훈련 세트이다.\n",
        "# test_images와 test_labels 배열은 모델 테스트에 사용되는 테스트 세트이다.\n",
        "# 데이터셋(이미지)는 28x28 크기의 넘파이(NumPy) 배열이고 픽셀 값은 0과 255사이이다.\n",
        "# 레이블(label)은 0에서 9까지의 정수 배열이다. 이 값은 이미지에 있는 옷의 클래스(class, 정의)를 나타낸다.\n",
        "# 각 이미지(28x28)는 하나의 레이블(label)에 매핑(할당, 정의)되어 있습니다."
      ],
      "execution_count": 0,
      "outputs": []
    },
    {
      "cell_type": "code",
      "metadata": {
        "id": "FpCamGFh2_xB",
        "colab_type": "code",
        "colab": {}
      },
      "source": [
        "# 데이터셋에 클래스 이름이 들어있지 않기 때문에(매핑만 되어 있고 클래스의 이름은 존재하지 않음) 이미지를 출력할 때\n",
        "# 사용하기 위해 별도의 변수를 만들어 저장함\n",
        "class_names = ['T-shirt/top', 'Trouser', 'Pullover', 'Dress', 'Coat',\n",
        "               'Sandal', 'Shirt', 'Sneaker', 'Bag', 'Ankle boot']"
      ],
      "execution_count": 0,
      "outputs": []
    },
    {
      "cell_type": "markdown",
      "metadata": {
        "id": "IjrHGgyCmKzd",
        "colab_type": "text"
      },
      "source": [
        "넘파이(NumPy)란 파이썬의 여러 패키지를 계승해서 나온 수학 및 과학 연산을 위한 파이썬 패키지이다. 파이썬의 여러 패키지(시각화, 계산, 알고리즘)와 연동 되어 사용되기 용의한 배열 형태의 자료구조이기도 하다.\n"
      ]
    },
    {
      "cell_type": "markdown",
      "metadata": {
        "id": "yfmwx3Zb3yDD",
        "colab_type": "text"
      },
      "source": [
        "# **데이터 탐색**"
      ]
    },
    {
      "cell_type": "code",
      "metadata": {
        "id": "aUCwjQQT3LnW",
        "colab_type": "code",
        "colab": {
          "base_uri": "https://localhost:8080/",
          "height": 35
        },
        "outputId": "2474a2bb-18cb-4485-a8fb-172281e4400d"
      },
      "source": [
        "train_images.shape\n",
        "# 넘파이(NumPy) 배열 형태의 train_images의 shape 함수를 사용하여 크기를 반환"
      ],
      "execution_count": 105,
      "outputs": [
        {
          "output_type": "execute_result",
          "data": {
            "text/plain": [
              "(60000, 28, 28)"
            ]
          },
          "metadata": {
            "tags": []
          },
          "execution_count": 105
        }
      ]
    },
    {
      "cell_type": "code",
      "metadata": {
        "id": "yPwppCIF3LkH",
        "colab_type": "code",
        "colab": {
          "base_uri": "https://localhost:8080/",
          "height": 35
        },
        "outputId": "f1c14999-2ccb-4cb2-a66d-7c5d6e7bd42b"
      },
      "source": [
        "len(train_labels)\n",
        "# 훈련 세트의 레이블 갯수를 반환"
      ],
      "execution_count": 106,
      "outputs": [
        {
          "output_type": "execute_result",
          "data": {
            "text/plain": [
              "60000"
            ]
          },
          "metadata": {
            "tags": []
          },
          "execution_count": 106
        }
      ]
    },
    {
      "cell_type": "code",
      "metadata": {
        "id": "Lw-sRPqc3Lhx",
        "colab_type": "code",
        "colab": {
          "base_uri": "https://localhost:8080/",
          "height": 35
        },
        "outputId": "371463e1-3444-4d5d-e8c4-a1c521bb12d1"
      },
      "source": [
        "train_labels\n",
        "# 각 레이블은 0과 9 사이의 정수가 이미지와 매핑되어 있다."
      ],
      "execution_count": 107,
      "outputs": [
        {
          "output_type": "execute_result",
          "data": {
            "text/plain": [
              "array([9, 0, 0, ..., 3, 0, 5], dtype=uint8)"
            ]
          },
          "metadata": {
            "tags": []
          },
          "execution_count": 107
        }
      ]
    },
    {
      "cell_type": "code",
      "metadata": {
        "id": "it3-hIZCmHjO",
        "colab_type": "code",
        "colab": {
          "base_uri": "https://localhost:8080/",
          "height": 35
        },
        "outputId": "bfffa5ab-6311-42ec-c1a4-9514626d6a7c"
      },
      "source": [
        "test_images.shape\n",
        "# 넘파이(NumPy) 배열 형태의 test_images의 shape 함수를 사용하여 크기를 반환"
      ],
      "execution_count": 108,
      "outputs": [
        {
          "output_type": "execute_result",
          "data": {
            "text/plain": [
              "(10000, 28, 28)"
            ]
          },
          "metadata": {
            "tags": []
          },
          "execution_count": 108
        }
      ]
    },
    {
      "cell_type": "code",
      "metadata": {
        "id": "vBWTberK3QrC",
        "colab_type": "code",
        "colab": {
          "base_uri": "https://localhost:8080/",
          "height": 35
        },
        "outputId": "6e9f094b-efae-4b5e-ab8d-1ac794f78a3a"
      },
      "source": [
        "len(test_labels)\n",
        "# 테스트 세트의 레이블 갯수를 반환"
      ],
      "execution_count": 109,
      "outputs": [
        {
          "output_type": "execute_result",
          "data": {
            "text/plain": [
              "10000"
            ]
          },
          "metadata": {
            "tags": []
          },
          "execution_count": 109
        }
      ]
    },
    {
      "cell_type": "code",
      "metadata": {
        "id": "vcV3CyoX3VGs",
        "colab_type": "code",
        "colab": {
          "base_uri": "https://localhost:8080/",
          "height": 35
        },
        "outputId": "8f013897-b9d4-4004-9679-e504ebb0ab1a"
      },
      "source": [
        "test_labels\n",
        "# 마찬가지로 각 레이블은 0과 9 사이의 정수로 이루어짐"
      ],
      "execution_count": 110,
      "outputs": [
        {
          "output_type": "execute_result",
          "data": {
            "text/plain": [
              "array([9, 2, 1, ..., 8, 1, 5], dtype=uint8)"
            ]
          },
          "metadata": {
            "tags": []
          },
          "execution_count": 110
        }
      ]
    },
    {
      "cell_type": "markdown",
      "metadata": {
        "id": "Z6ltVDKD3_L3",
        "colab_type": "text"
      },
      "source": [
        "# **데이터 전처리**"
      ]
    },
    {
      "cell_type": "markdown",
      "metadata": {
        "id": "rbrdekBn4Gqs",
        "colab_type": "text"
      },
      "source": [
        "네트워크(train_model, layer)를 훈련하기 전에 데이터를 전처리해야 한다."
      ]
    },
    {
      "cell_type": "code",
      "metadata": {
        "id": "d0WLx04a4CKN",
        "colab_type": "code",
        "colab": {}
      },
      "source": [
        "plt.figure()\n",
        "plt.imshow(train_images[0])\n",
        "plt.colorbar()\n",
        "plt.grid(False)\n",
        "plt.show()"
      ],
      "execution_count": 0,
      "outputs": []
    },
    {
      "cell_type": "markdown",
      "metadata": {
        "id": "v7swB8V84Mg4",
        "colab_type": "text"
      },
      "source": [
        "훈련 세트에 있는 첫 번째 이미지를 보면 픽셀 값의 범위가 0~255 사이라는 것을 알 수 있다."
      ]
    }
  ]
}